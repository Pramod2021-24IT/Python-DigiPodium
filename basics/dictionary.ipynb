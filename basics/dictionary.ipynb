{
 "cells": [
  {
   "cell_type": "code",
   "execution_count": 1,
   "metadata": {},
   "outputs": [],
   "source": [
    "emp = ['Amar', 'dee', 'finance',2300,10000,3000,31,True,False, 'Acme']"
   ]
  },
  {
   "cell_type": "code",
   "execution_count": 2,
   "metadata": {},
   "outputs": [
    {
     "name": "stdout",
     "output_type": "stream",
     "text": [
      "{'fname': 'Amar', 'lname': 'deep', 'dept': 'finance', 'age': 30, 'salary': 10000, 'bonus': 30000, 'is_manager': True, 'is_executive': False, 'company': 'Acme'}\n"
     ]
    }
   ],
   "source": [
    "emp_dict ={\n",
    "    'fname':'Amar',\n",
    "    'lname':'deep',\n",
    "    'dept' : 'finance',\n",
    "    'age': 30,\n",
    "    'salary' : 10000,\n",
    "    'bonus' : 30000,\n",
    "    'is_manager' : True,\n",
    "    'is_executive': False,\n",
    "    'company' : 'Acme'}\n",
    "print(emp_dict)"
   ]
  },
  {
   "cell_type": "markdown",
   "metadata": {},
   "source": [
    "# weather_data"
   ]
  },
  {
   "cell_type": "code",
   "execution_count": 3,
   "metadata": {},
   "outputs": [],
   "source": [
    "weather_data={\n",
    "    'date':'2019-01-01',\n",
    "    'temp':35,\n",
    "    'details':{\n",
    "        'humidity':80,\n",
    "        'wind':10,\n",
    "        'pressure':30,\n",
    "        'aqi': 120\n",
    "    },\n",
    "    'city':'Lucknow',\n",
    "    'type':'sunshine',\n",
    "    'icon':'☀️'\n",
    "}"
   ]
  },
  {
   "cell_type": "code",
   "execution_count": 4,
   "metadata": {},
   "outputs": [
    {
     "name": "stdout",
     "output_type": "stream",
     "text": [
      "{'date': '2019-01-01', 'temp': 35, 'details': {'humidity': 80, 'wind': 10, 'pressure': 30, 'aqi': 120}, 'city': 'Lucknow', 'type': 'sunshine', 'icon': '☀️'}\n"
     ]
    }
   ],
   "source": [
    "print(weather_data)"
   ]
  },
  {
   "cell_type": "markdown",
   "metadata": {},
   "source": [
    "## Accessing data from key\n",
    "    5 cells hidden\n",
    "\n",
    "    Key error"
   ]
  },
  {
   "cell_type": "code",
   "execution_count": 5,
   "metadata": {},
   "outputs": [
    {
     "ename": "KeyError",
     "evalue": "'location'",
     "output_type": "error",
     "traceback": [
      "\u001b[1;31m---------------------------------------------------------------------------\u001b[0m",
      "\u001b[1;31mKeyError\u001b[0m                                  Traceback (most recent call last)",
      "\u001b[1;32mc:\\Users\\prem3\\Documents\\Python DigiPodium\\dictionary.ipynb Cell 7\u001b[0m in \u001b[0;36m<cell line: 1>\u001b[1;34m()\u001b[0m\n\u001b[1;32m----> <a href='vscode-notebook-cell:/c%3A/Users/prem3/Documents/Python%20DigiPodium/dictionary.ipynb#X30sZmlsZQ%3D%3D?line=0'>1</a>\u001b[0m weather_data[\u001b[39m'\u001b[39;49m\u001b[39mlocation\u001b[39;49m\u001b[39m'\u001b[39;49m]\n",
      "\u001b[1;31mKeyError\u001b[0m: 'location'"
     ]
    }
   ],
   "source": [
    "weather_data['location']"
   ]
  },
  {
   "cell_type": "code",
   "execution_count": 7,
   "metadata": {},
   "outputs": [
    {
     "data": {
      "text/plain": [
       "35"
      ]
     },
     "execution_count": 7,
     "metadata": {},
     "output_type": "execute_result"
    }
   ],
   "source": [
    "weather_data.get('temp')"
   ]
  },
  {
   "cell_type": "code",
   "execution_count": 8,
   "metadata": {},
   "outputs": [],
   "source": [
    "weather_data.get('location')"
   ]
  },
  {
   "cell_type": "code",
   "execution_count": 9,
   "metadata": {},
   "outputs": [
    {
     "data": {
      "text/plain": [
       "'Lucknow'"
      ]
     },
     "execution_count": 9,
     "metadata": {},
     "output_type": "execute_result"
    }
   ],
   "source": [
    "weather_data.get('city','notfound')"
   ]
  },
  {
   "cell_type": "code",
   "execution_count": 10,
   "metadata": {},
   "outputs": [
    {
     "data": {
      "text/plain": [
       "'notfound'"
      ]
     },
     "execution_count": 10,
     "metadata": {},
     "output_type": "execute_result"
    }
   ],
   "source": [
    "weather_data.get('location','notfound')"
   ]
  },
  {
   "cell_type": "markdown",
   "metadata": {},
   "source": [
    "### Looping over a dictionary"
   ]
  },
  {
   "cell_type": "code",
   "execution_count": 13,
   "metadata": {},
   "outputs": [
    {
     "name": "stdout",
     "output_type": "stream",
     "text": [
      "fname => Amar\n",
      "lname => deep\n",
      "dept => finance\n",
      "age => 30\n",
      "salary => 10000\n",
      "bonus => 30000\n",
      "is_manager => True\n",
      "is_executive => False\n",
      "company => Acme\n"
     ]
    }
   ],
   "source": [
    "for k in emp_dict:\n",
    "    print(k, '=>', emp_dict[k])"
   ]
  },
  {
   "cell_type": "code",
   "execution_count": 14,
   "metadata": {},
   "outputs": [
    {
     "ename": "NameError",
     "evalue": "name 'x' is not defined",
     "output_type": "error",
     "traceback": [
      "\u001b[1;31m---------------------------------------------------------------------------\u001b[0m",
      "\u001b[1;31mNameError\u001b[0m                                 Traceback (most recent call last)",
      "\u001b[1;32mc:\\Users\\prem3\\Documents\\Python DigiPodium\\dictionary.ipynb Cell 14\u001b[0m in \u001b[0;36m<cell line: 1>\u001b[1;34m()\u001b[0m\n\u001b[1;32m----> <a href='vscode-notebook-cell:/c%3A/Users/prem3/Documents/Python%20DigiPodium/dictionary.ipynb#X42sZmlsZQ%3D%3D?line=0'>1</a>\u001b[0m \u001b[39mfor\u001b[39;00m k \u001b[39min\u001b[39;00m x:\n\u001b[0;32m      <a href='vscode-notebook-cell:/c%3A/Users/prem3/Documents/Python%20DigiPodium/dictionary.ipynb#X42sZmlsZQ%3D%3D?line=1'>2</a>\u001b[0m     \u001b[39mprint\u001b[39m(k, \u001b[39m'\u001b[39m\u001b[39m=>\u001b[39m\u001b[39m'\u001b[39m,x[k])\n",
      "\u001b[1;31mNameError\u001b[0m: name 'x' is not defined"
     ]
    }
   ],
   "source": [
    "for k in x:\n",
    "    print(k, '=>',x[k])"
   ]
  },
  {
   "cell_type": "code",
   "execution_count": 15,
   "metadata": {},
   "outputs": [
    {
     "ename": "SyntaxError",
     "evalue": "invalid syntax (4120755842.py, line 3)",
     "output_type": "error",
     "traceback": [
      "\u001b[1;36m  Input \u001b[1;32mIn [15]\u001b[1;36m\u001b[0m\n\u001b[1;33m    name => Pramod Maurya\u001b[0m\n\u001b[1;37m          ^\u001b[0m\n\u001b[1;31mSyntaxError\u001b[0m\u001b[1;31m:\u001b[0m invalid syntax\n"
     ]
    }
   ],
   "source": [
    "# looping over a dictionary using item()\n",
    "\n",
    "name => Pramod Maurya\n",
    "course => B.Tech\n",
    "Branch => IT \n",
    "Session => 2021-24"
   ]
  },
  {
   "cell_type": "code",
   "execution_count": 16,
   "metadata": {},
   "outputs": [
    {
     "data": {
      "text/plain": [
       "dict_items([('fname', 'Amar'), ('lname', 'deep'), ('dept', 'finance'), ('age', 30), ('salary', 10000), ('bonus', 30000), ('is_manager', True), ('is_executive', False), ('company', 'Acme')])"
      ]
     },
     "execution_count": 16,
     "metadata": {},
     "output_type": "execute_result"
    }
   ],
   "source": [
    "emp_dict.items()"
   ]
  },
  {
   "cell_type": "code",
   "execution_count": 17,
   "metadata": {},
   "outputs": [],
   "source": [
    "# Updating an entry in dictionary\n",
    "\n",
    "weather_data['temp']= 30"
   ]
  },
  {
   "cell_type": "code",
   "execution_count": 19,
   "metadata": {},
   "outputs": [
    {
     "name": "stdout",
     "output_type": "stream",
     "text": [
      "30\n"
     ]
    }
   ],
   "source": [
    "print(weather_data['temp'])"
   ]
  },
  {
   "cell_type": "code",
   "execution_count": null,
   "metadata": {},
   "outputs": [],
   "source": [
    "#remove an entry\n",
    "if 'is_executive' in emp_dict:\n",
    "    emp_dict.pop('is_executive')"
   ]
  },
  {
   "cell_type": "code",
   "execution_count": 4,
   "metadata": {},
   "outputs": [],
   "source": [
    "reports= {\n",
    "    '001': {\n",
    "        'name' :'Amar',\n",
    "        'subjects': {'English':80, 'Maths':80,'Science':95}\n",
    "    },\n",
    "'002':{\n",
    "    'name': 'Vijay',\n",
    "    'subjects': {'English':70, 'Maths':60,'Science':85}\n",
    "},\n",
    "'003':{   \n",
    "    'name':'Raj',\n",
    "    'subjects': {'English':60, 'Maths':50,'Science':45}\n",
    " },\n",
    "}"
   ]
  },
  {
   "cell_type": "code",
   "execution_count": 5,
   "metadata": {},
   "outputs": [
    {
     "name": "stdout",
     "output_type": "stream",
     "text": [
      "001\n",
      "name\n",
      "subjects\n",
      "002\n",
      "name\n",
      "subjects\n",
      "003\n",
      "name\n",
      "subjects\n"
     ]
    }
   ],
   "source": [
    "for roll, data in reports.items():\n",
    "    print(roll)\n",
    "    for key, val in data.items():\n",
    "        print(key)"
   ]
  },
  {
   "cell_type": "code",
   "execution_count": 7,
   "metadata": {},
   "outputs": [
    {
     "name": "stdout",
     "output_type": "stream",
     "text": [
      "001\n",
      "name\n",
      "Amar\n",
      "------------------------------\n",
      "subjects\n",
      "English 80\n",
      "Maths 80\n",
      "Science 95\n",
      "------------------------------\n",
      "002\n",
      "name\n",
      "Vijay\n",
      "------------------------------\n",
      "subjects\n",
      "English 70\n",
      "Maths 60\n",
      "Science 85\n",
      "------------------------------\n",
      "003\n",
      "name\n",
      "Raj\n",
      "------------------------------\n",
      "subjects\n",
      "English 60\n",
      "Maths 50\n",
      "Science 45\n",
      "------------------------------\n"
     ]
    }
   ],
   "source": [
    "for roll, data in reports.items():\n",
    "    print(roll)\n",
    "    for key, val in data.items():\n",
    "        print(key)\n",
    "        if isinstance(val, dict):\n",
    "            for sub, marks in val.items():\n",
    "                print(sub, marks)\n",
    "        else:\n",
    "            print(val)\n",
    "        print('---'*10)"
   ]
  },
  {
   "cell_type": "code",
   "execution_count": 8,
   "metadata": {},
   "outputs": [
    {
     "name": "stdout",
     "output_type": "stream",
     "text": [
      "Roll No. 001\n",
      "name Amar\n",
      "------------------------------\n",
      "subjects\n",
      "English 80\n",
      "Maths 80\n",
      "Science 95\n",
      "------------------------------\n",
      "Roll No. 002\n",
      "name Vijay\n",
      "------------------------------\n",
      "subjects\n",
      "English 70\n",
      "Maths 60\n",
      "Science 85\n",
      "------------------------------\n",
      "Roll No. 003\n",
      "name Raj\n",
      "------------------------------\n",
      "subjects\n",
      "English 60\n",
      "Maths 50\n",
      "Science 45\n",
      "------------------------------\n"
     ]
    }
   ],
   "source": [
    "for roll, data in reports.items():\n",
    "    print(\"Roll No.\",roll)\n",
    "    for key, val in data.items():\n",
    "        if isinstance(val, dict):\n",
    "            print(key)\n",
    "            for sub, marks in val.items():\n",
    "                print(sub, marks)\n",
    "        else:\n",
    "            print(key, val)\n",
    "        print('---'*10)"
   ]
  },
  {
   "cell_type": "code",
   "execution_count": 11,
   "metadata": {},
   "outputs": [
    {
     "name": "stdout",
     "output_type": "stream",
     "text": [
      "Roll No. 001\n",
      "name Amar\n",
      "------------------------------\n",
      "subjects\n",
      "English 80\n",
      "Maths 80\n",
      "Science 95\n",
      "Total : 255/300\n",
      "------------------------------\n",
      "Roll No. 002\n",
      "name Vijay\n",
      "------------------------------\n",
      "subjects\n",
      "English 70\n",
      "Maths 60\n",
      "Science 85\n",
      "Total : 215/300\n",
      "------------------------------\n",
      "Roll No. 003\n",
      "name Raj\n",
      "------------------------------\n",
      "subjects\n",
      "English 60\n",
      "Maths 50\n",
      "Science 45\n",
      "Total : 155/300\n",
      "------------------------------\n"
     ]
    }
   ],
   "source": [
    "for roll, data in reports.items():\n",
    "    print(\"Roll No.\",roll)\n",
    "    for key, val in data.items():\n",
    "        if isinstance(val, dict):\n",
    "            print(key)\n",
    "            total=0\n",
    "            for sub, marks in val.items():\n",
    "                print(sub, marks)\n",
    "                total += marks\n",
    "            print(f'Total : {total}/300')        \n",
    "        else:\n",
    "            print(key, val)\n",
    "        print('---'*10)"
   ]
  },
  {
   "cell_type": "code",
   "execution_count": 14,
   "metadata": {},
   "outputs": [
    {
     "name": "stdout",
     "output_type": "stream",
     "text": [
      "Roll No. 001\n",
      "name Amar\n",
      "------------------------------\n",
      "subjects\n",
      "English 80\n",
      "Maths 80\n",
      "Science 95\n",
      "Total : 255/300\n",
      "Average : 85.00\n",
      "------------------------------\n",
      "Roll No. 002\n",
      "name Vijay\n",
      "------------------------------\n",
      "subjects\n",
      "English 70\n",
      "Maths 60\n",
      "Science 85\n",
      "Total : 215/300\n",
      "Average : 71.67\n",
      "------------------------------\n",
      "Roll No. 003\n",
      "name Raj\n",
      "------------------------------\n",
      "subjects\n",
      "English 60\n",
      "Maths 50\n",
      "Science 45\n",
      "Total : 155/300\n",
      "Average : 51.67\n",
      "------------------------------\n"
     ]
    }
   ],
   "source": [
    "for roll, data in reports.items():\n",
    "    print(\"Roll No.\",roll)\n",
    "    for key, val in data.items():\n",
    "        if isinstance(val, dict):\n",
    "            print(key)\n",
    "            total=0\n",
    "            for sub, marks in val.items():\n",
    "                print(sub, marks)\n",
    "                total += marks\n",
    "            print(f'Total : {total}/300')\n",
    "            print(f'Average : {total/3:.2f}')        \n",
    "        else:\n",
    "            print(key, val)\n",
    "        print('---'*10)"
   ]
  },
  {
   "cell_type": "markdown",
   "metadata": {},
   "source": [
    "### File handling"
   ]
  },
  {
   "cell_type": "markdown",
   "metadata": {},
   "source": [
    "#####\n",
    ". open a file\n",
    ". reading a file\n",
    ". writing a file\n",
    ". appending a file"
   ]
  },
  {
   "cell_type": "code",
   "execution_count": 15,
   "metadata": {},
   "outputs": [
    {
     "name": "stdout",
     "output_type": "stream",
     "text": [
      "print(\"Hi\")\n"
     ]
    }
   ],
   "source": [
    "f = open('hello.py')\n",
    "print(f.read())"
   ]
  },
  {
   "cell_type": "code",
   "execution_count": 23,
   "metadata": {},
   "outputs": [
    {
     "name": "stdout",
     "output_type": "stream",
     "text": [
      "201characters\n"
     ]
    }
   ],
   "source": [
    "f = open(r'C:\\Users\\prem3\\OneDrive\\Desktop\\wasi\\.vscode\\_2darray1.c')\n",
    "content = f.read()\n",
    "print(f'{len(content)}characters')"
   ]
  },
  {
   "cell_type": "code",
   "execution_count": 24,
   "metadata": {},
   "outputs": [],
   "source": [
    "data = 'hi everyone, this is a sample file'\n",
    "with open ('mydata.text','w') as file:\n",
    "    file.write(data)"
   ]
  },
  {
   "cell_type": "code",
   "execution_count": 25,
   "metadata": {},
   "outputs": [],
   "source": [
    "# not to be used\n",
    "# file = open('mydata.text', 'w')\n",
    "# file.write(data)\n",
    "# file.close()"
   ]
  },
  {
   "cell_type": "code",
   "execution_count": 27,
   "metadata": {},
   "outputs": [],
   "source": [
    "data = '\\nthis is the new data the is going to written'\n",
    "with open ('mydata.text','a') as file:\n",
    "    file.write(data)"
   ]
  },
  {
   "cell_type": "code",
   "execution_count": 28,
   "metadata": {},
   "outputs": [
    {
     "name": "stdout",
     "output_type": "stream",
     "text": [
      "File bio.text saved\n"
     ]
    }
   ],
   "source": [
    "file = 'bio.text'\n",
    "content = ' '\n",
    "while True:\n",
    "    line = input('Enter a line (or q to quit): ')\n",
    "    if line=='q':\n",
    "        break\n",
    "    content += line + '\\n'\n",
    "\n",
    "with open(file, 'w') as f:\n",
    "    f.write(content)\n",
    "    print(f'File {file} saved')"
   ]
  },
  {
   "cell_type": "code",
   "execution_count": null,
   "metadata": {},
   "outputs": [],
   "source": []
  }
 ],
 "metadata": {
  "kernelspec": {
   "display_name": "Python 3.9.12 ('base')",
   "language": "python",
   "name": "python3"
  },
  "language_info": {
   "codemirror_mode": {
    "name": "ipython",
    "version": 3
   },
   "file_extension": ".py",
   "mimetype": "text/x-python",
   "name": "python",
   "nbconvert_exporter": "python",
   "pygments_lexer": "ipython3",
   "version": "3.9.12"
  },
  "orig_nbformat": 4,
  "vscode": {
   "interpreter": {
    "hash": "4fa96c6fab553df392c260cd8758a3b05d0d6d0ece4103e9006a84d1a0a30fb2"
   }
  }
 },
 "nbformat": 4,
 "nbformat_minor": 2
}
