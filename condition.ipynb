{
 "cells": [
  {
   "cell_type": "markdown",
   "metadata": {},
   "source": [
    "# Conditions"
   ]
  },
  {
   "cell_type": "markdown",
   "metadata": {},
   "source": [
    "### 1. if\n",
    "    2. if else\n",
    "    3. if elif else\n",
    "    4. nested if\n",
    "    5. match case (verson 3.10)"
   ]
  },
  {
   "cell_type": "markdown",
   "metadata": {},
   "source": [
    "## Syntax\n",
    "### if condition:\n",
    "        statement"
   ]
  },
  {
   "cell_type": "code",
   "execution_count": 2,
   "metadata": {},
   "outputs": [
    {
     "name": "stdout",
     "output_type": "stream",
     "text": [
      "5 is greater than 10\n"
     ]
    }
   ],
   "source": [
    "if 5<10:\n",
    "    print('5 is greater than 10')"
   ]
  },
  {
   "cell_type": "code",
   "execution_count": 3,
   "metadata": {},
   "outputs": [
    {
     "name": "stdout",
     "output_type": "stream",
     "text": [
      "This is great\n",
      "10 is greater than 20\n"
     ]
    }
   ],
   "source": [
    "a=10\n",
    "b=20\n",
    "if a<b:\n",
    "    print('This is great')\n",
    "    print(f'{a} is greater than {b}')"
   ]
  },
  {
   "cell_type": "code",
   "execution_count": 11,
   "metadata": {},
   "outputs": [],
   "source": [
    "data = input(\"Enter a data: \")\n",
    "if data.isalpha():\n",
    "    print(\"This is a string\")\n",
    "if data.isnumeric():\n",
    "    print(\"This is number\")\n",
    "if data.isspace():\n",
    "    print(\"This is a space\")"
   ]
  },
  {
   "cell_type": "code",
   "execution_count": 14,
   "metadata": {},
   "outputs": [
    {
     "name": "stdout",
     "output_type": "stream",
     "text": [
      "it's hot\n"
     ]
    }
   ],
   "source": [
    "temp = 32\n",
    "if temp > 25:\n",
    "    print(\"it's hot\")\n",
    "else:\n",
    "    print(\"it's cool\")"
   ]
  },
  {
   "cell_type": "code",
   "execution_count": 16,
   "metadata": {},
   "outputs": [
    {
     "name": "stdout",
     "output_type": "stream",
     "text": [
      "An mango is the King of the fruits\n"
     ]
    }
   ],
   "source": [
    "fruit = input(\"What fruit do you like?\")\n",
    "if fruit == \"apple\":\n",
    "    print(\"An apple a day keeps the doctor away\")\n",
    "elif fruit == \"mango\" :\n",
    "    print(\"An mango is the King of the fruits\")\n",
    "elif fruit ==\"banana\" :\n",
    "    print(\"A banana is good source of potassium\")\n",
    "elif fruit==\"orange\" :\n",
    "    print(\"Orange is a good source of vitamin C\")\n",
    "else :\n",
    "    print(\"Not found in the database\")"
   ]
  },
  {
   "cell_type": "code",
   "execution_count": 17,
   "metadata": {},
   "outputs": [
    {
     "name": "stdout",
     "output_type": "stream",
     "text": [
      "Wrong username\n"
     ]
    }
   ],
   "source": [
    "username = input(\"Enter your username: \")\n",
    "password = input(\"Enter your password: \")\n",
    "if username =='sum':\n",
    "    if password =='123':\n",
    "        print(\"Welcome Sam\")\n",
    "    else:\n",
    "        print(\"Wrong password\")\n",
    "else:\n",
    "    print(\"Wrong username\")\n"
   ]
  },
  {
   "cell_type": "code",
   "execution_count": 18,
   "metadata": {},
   "outputs": [
    {
     "name": "stdout",
     "output_type": "stream",
     "text": [
      "Welcome Sam\n"
     ]
    }
   ],
   "source": [
    "if username ==\"Sam\" and password =='123':\n",
    "    print(\"Welcome Sam\")\n",
    "else:\n",
    "    print(\"Wrong username or password\")"
   ]
  },
  {
   "cell_type": "markdown",
   "metadata": {},
   "source": [
    "## HW 20/10/22"
   ]
  },
  {
   "cell_type": "markdown",
   "metadata": {},
   "source": [
    "### Q. Wap to calculate the employee total salary based on followingconditions:"
   ]
  },
  {
   "cell_type": "markdown",
   "metadata": {},
   "source": [
    "##### . If basic salary is less than 10000 then hra is 10% of basic salary and da is 90% of basic salary\n",
    "      . If basic salary is greater than 10000 then hra is 20% of the basic salary and da id 80% of basic salary\n",
    "      . If basic salary is greater than 20000 then hra is 25% "
   ]
  }
 ],
 "metadata": {
  "kernelspec": {
   "display_name": "Python 3.9.12 ('base')",
   "language": "python",
   "name": "python3"
  },
  "language_info": {
   "codemirror_mode": {
    "name": "ipython",
    "version": 3
   },
   "file_extension": ".py",
   "mimetype": "text/x-python",
   "name": "python",
   "nbconvert_exporter": "python",
   "pygments_lexer": "ipython3",
   "version": "3.9.12"
  },
  "orig_nbformat": 4,
  "vscode": {
   "interpreter": {
    "hash": "4fa96c6fab553df392c260cd8758a3b05d0d6d0ece4103e9006a84d1a0a30fb2"
   }
  }
 },
 "nbformat": 4,
 "nbformat_minor": 2
}
