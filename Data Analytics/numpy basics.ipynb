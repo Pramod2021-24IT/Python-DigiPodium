{
 "cells": [
  {
   "cell_type": "code",
   "execution_count": 1,
   "metadata": {},
   "outputs": [],
   "source": [
    "import numpy as np"
   ]
  },
  {
   "cell_type": "code",
   "execution_count": 2,
   "metadata": {},
   "outputs": [
    {
     "name": "stdout",
     "output_type": "stream",
     "text": [
      "[1 2 3 4]\n"
     ]
    }
   ],
   "source": [
    "x = np.array([1,2,3,4])\n",
    "print(x)"
   ]
  },
  {
   "cell_type": "code",
   "execution_count": 3,
   "metadata": {},
   "outputs": [
    {
     "name": "stdout",
     "output_type": "stream",
     "text": [
      "[[2 3]\n",
      " [5 6]]\n"
     ]
    }
   ],
   "source": [
    "x2 = np.array([[2,3],[5,6]])\n",
    "print(x2)"
   ]
  },
  {
   "cell_type": "code",
   "execution_count": 6,
   "metadata": {},
   "outputs": [
    {
     "name": "stdout",
     "output_type": "stream",
     "text": [
      "(4,)\n",
      "(2, 2)\n",
      "1\n",
      "2\n"
     ]
    }
   ],
   "source": [
    "print(x.shape)\n",
    "print(x2.shape)\n",
    "print(x.ndim)\n",
    "print(x2.ndim)"
   ]
  },
  {
   "cell_type": "code",
   "execution_count": 7,
   "metadata": {},
   "outputs": [
    {
     "name": "stdout",
     "output_type": "stream",
     "text": [
      "[0 1 2 3 4 5 6 7 8 9]\n"
     ]
    }
   ],
   "source": [
    "a = np.arange(10)\n",
    "print(a)"
   ]
  },
  {
   "cell_type": "code",
   "execution_count": 8,
   "metadata": {},
   "outputs": [
    {
     "name": "stdout",
     "output_type": "stream",
     "text": [
      "[-5 -4 -3 -2 -1  0  1  2  3  4  5]\n"
     ]
    }
   ],
   "source": [
    "a = np.arange(-5,6)\n",
    "print(a)"
   ]
  },
  {
   "cell_type": "code",
   "execution_count": 10,
   "metadata": {},
   "outputs": [
    {
     "name": "stdout",
     "output_type": "stream",
     "text": [
      "[-5.  -4.5 -4.  -3.5 -3.  -2.5 -2.  -1.5 -1.  -0.5  0.   0.5  1.   1.5\n",
      "  2.   2.5  3.   3.5  4.   4.5  5.   5.5]\n"
     ]
    }
   ],
   "source": [
    "a = np.arange(-5,6,.5)\n",
    "print(a)"
   ]
  },
  {
   "cell_type": "code",
   "execution_count": 11,
   "metadata": {},
   "outputs": [
    {
     "name": "stdout",
     "output_type": "stream",
     "text": [
      "[-5.  -4.5 -4.  -3.5 -3.  -2.5 -2.  -1.5 -1.  -0.5  0.   0.5  1.   1.5\n",
      "  2.   2.5  3.   3.5  4.   4.5  5.   5.5]\n",
      "(22,)\n",
      "22\n"
     ]
    }
   ],
   "source": [
    "a = np.arange(-5,6,.5)\n",
    "print(a)\n",
    "print(a.shape)\n",
    "print(a.size)"
   ]
  },
  {
   "cell_type": "code",
   "execution_count": 13,
   "metadata": {},
   "outputs": [
    {
     "name": "stdout",
     "output_type": "stream",
     "text": [
      "[ 1.          1.18367347  1.36734694  1.55102041  1.73469388  1.91836735\n",
      "  2.10204082  2.28571429  2.46938776  2.65306122  2.83673469  3.02040816\n",
      "  3.20408163  3.3877551   3.57142857  3.75510204  3.93877551  4.12244898\n",
      "  4.30612245  4.48979592  4.67346939  4.85714286  5.04081633  5.2244898\n",
      "  5.40816327  5.59183673  5.7755102   5.95918367  6.14285714  6.32653061\n",
      "  6.51020408  6.69387755  6.87755102  7.06122449  7.24489796  7.42857143\n",
      "  7.6122449   7.79591837  7.97959184  8.16326531  8.34693878  8.53061224\n",
      "  8.71428571  8.89795918  9.08163265  9.26530612  9.44897959  9.63265306\n",
      "  9.81632653 10.        ]\n"
     ]
    }
   ],
   "source": [
    "b = np.linspace(1,10,50)   #(start, stop, no of partions)\n",
    "print(b)"
   ]
  },
  {
   "cell_type": "code",
   "execution_count": 14,
   "metadata": {},
   "outputs": [
    {
     "name": "stdout",
     "output_type": "stream",
     "text": [
      "[[0.73741299 0.41824327 0.05244076]\n",
      " [0.79067283 0.69897622 0.69470186]\n",
      " [0.44111305 0.20268576 0.06587913]]\n"
     ]
    }
   ],
   "source": [
    "c = np.random.random((3,3))\n",
    "print(c)"
   ]
  },
  {
   "cell_type": "code",
   "execution_count": 16,
   "metadata": {},
   "outputs": [
    {
     "name": "stdout",
     "output_type": "stream",
     "text": [
      "[[0.17510363 0.47124954 0.04347028 0.39745357 0.93610389]\n",
      " [0.75379194 0.82545292 0.95991455 0.58262341 0.61256898]\n",
      " [0.54677576 0.21667054 0.92401796 0.73035921 0.46603652]\n",
      " [0.80459853 0.63016461 0.54440923 0.19639571 0.60577128]\n",
      " [0.25905796 0.93621868 0.39454492 0.34760783 0.60997496]]\n",
      "(3, 3)\n",
      "9\n"
     ]
    }
   ],
   "source": [
    "d = np.random.random((5,5))\n",
    "print(d)\n",
    "print(c.shape)\n",
    "print(c.size)"
   ]
  },
  {
   "cell_type": "code",
   "execution_count": 19,
   "metadata": {},
   "outputs": [
    {
     "name": "stdout",
     "output_type": "stream",
     "text": [
      "[[-1.14452028  0.35747443  0.60433977]\n",
      " [ 0.84598058 -0.19181028  1.55516316]\n",
      " [ 0.1762621   0.90251445 -2.12995415]]\n",
      "9\n",
      "(3, 3)\n"
     ]
    }
   ],
   "source": [
    "e = np.random.randn(3,3)\n",
    "print(e)\n",
    "print(e.size)\n",
    "print(e.shape)\n"
   ]
  },
  {
   "cell_type": "code",
   "execution_count": 20,
   "metadata": {},
   "outputs": [
    {
     "name": "stdout",
     "output_type": "stream",
     "text": [
      "[[[91 93 90]\n",
      "  [94 95 91]\n",
      "  [90 93 93]]\n",
      "\n",
      " [[99 99 95]\n",
      "  [91 93 95]\n",
      "  [96 93 98]]\n",
      "\n",
      " [[94 97 91]\n",
      "  [99 91 97]\n",
      "  [98 96 93]]]\n",
      "(3, 3, 3)\n",
      "27\n"
     ]
    }
   ],
   "source": [
    "e = np.random.randint(90,100, (3,3,3))\n",
    "print(e)\n",
    "print(e.shape)\n",
    "print(e.size)"
   ]
  },
  {
   "cell_type": "code",
   "execution_count": 21,
   "metadata": {},
   "outputs": [
    {
     "name": "stdout",
     "output_type": "stream",
     "text": [
      "(90,)\n"
     ]
    }
   ],
   "source": [
    "f = np.linspace(1,100,90)\n",
    "print(f.shape)"
   ]
  },
  {
   "cell_type": "code",
   "execution_count": 23,
   "metadata": {},
   "outputs": [
    {
     "name": "stdout",
     "output_type": "stream",
     "text": [
      "[[  1.           2.11235955   3.2247191    4.33707865   5.4494382\n",
      "    6.56179775   7.6741573    8.78651685   9.8988764   11.01123596\n",
      "   12.12359551  13.23595506  14.34831461  15.46067416  16.57303371\n",
      "   17.68539326  18.79775281  19.91011236  21.02247191  22.13483146\n",
      "   23.24719101  24.35955056  25.47191011  26.58426966  27.69662921\n",
      "   28.80898876  29.92134831  31.03370787  32.14606742  33.25842697]\n",
      " [ 34.37078652  35.48314607  36.59550562  37.70786517  38.82022472\n",
      "   39.93258427  41.04494382  42.15730337  43.26966292  44.38202247\n",
      "   45.49438202  46.60674157  47.71910112  48.83146067  49.94382022\n",
      "   51.05617978  52.16853933  53.28089888  54.39325843  55.50561798\n",
      "   56.61797753  57.73033708  58.84269663  59.95505618  61.06741573\n",
      "   62.17977528  63.29213483  64.40449438  65.51685393  66.62921348]\n",
      " [ 67.74157303  68.85393258  69.96629213  71.07865169  72.19101124\n",
      "   73.30337079  74.41573034  75.52808989  76.64044944  77.75280899\n",
      "   78.86516854  79.97752809  81.08988764  82.20224719  83.31460674\n",
      "   84.42696629  85.53932584  86.65168539  87.76404494  88.87640449\n",
      "   89.98876404  91.1011236   92.21348315  93.3258427   94.43820225\n",
      "   95.5505618   96.66292135  97.7752809   98.88764045 100.        ]]\n",
      "(90,)\n"
     ]
    }
   ],
   "source": [
    "f2 = f.reshape(3,30)        #(rows,cols)\n",
    "print(f2)\n",
    "print(f.shape)"
   ]
  },
  {
   "cell_type": "code",
   "execution_count": 24,
   "metadata": {},
   "outputs": [
    {
     "name": "stdout",
     "output_type": "stream",
     "text": [
      "(15, 3, 2)\n",
      "[[[  1.           2.11235955]\n",
      "  [  3.2247191    4.33707865]\n",
      "  [  5.4494382    6.56179775]]\n",
      "\n",
      " [[  7.6741573    8.78651685]\n",
      "  [  9.8988764   11.01123596]\n",
      "  [ 12.12359551  13.23595506]]\n",
      "\n",
      " [[ 14.34831461  15.46067416]\n",
      "  [ 16.57303371  17.68539326]\n",
      "  [ 18.79775281  19.91011236]]\n",
      "\n",
      " [[ 21.02247191  22.13483146]\n",
      "  [ 23.24719101  24.35955056]\n",
      "  [ 25.47191011  26.58426966]]\n",
      "\n",
      " [[ 27.69662921  28.80898876]\n",
      "  [ 29.92134831  31.03370787]\n",
      "  [ 32.14606742  33.25842697]]\n",
      "\n",
      " [[ 34.37078652  35.48314607]\n",
      "  [ 36.59550562  37.70786517]\n",
      "  [ 38.82022472  39.93258427]]\n",
      "\n",
      " [[ 41.04494382  42.15730337]\n",
      "  [ 43.26966292  44.38202247]\n",
      "  [ 45.49438202  46.60674157]]\n",
      "\n",
      " [[ 47.71910112  48.83146067]\n",
      "  [ 49.94382022  51.05617978]\n",
      "  [ 52.16853933  53.28089888]]\n",
      "\n",
      " [[ 54.39325843  55.50561798]\n",
      "  [ 56.61797753  57.73033708]\n",
      "  [ 58.84269663  59.95505618]]\n",
      "\n",
      " [[ 61.06741573  62.17977528]\n",
      "  [ 63.29213483  64.40449438]\n",
      "  [ 65.51685393  66.62921348]]\n",
      "\n",
      " [[ 67.74157303  68.85393258]\n",
      "  [ 69.96629213  71.07865169]\n",
      "  [ 72.19101124  73.30337079]]\n",
      "\n",
      " [[ 74.41573034  75.52808989]\n",
      "  [ 76.64044944  77.75280899]\n",
      "  [ 78.86516854  79.97752809]]\n",
      "\n",
      " [[ 81.08988764  82.20224719]\n",
      "  [ 83.31460674  84.42696629]\n",
      "  [ 85.53932584  86.65168539]]\n",
      "\n",
      " [[ 87.76404494  88.87640449]\n",
      "  [ 89.98876404  91.1011236 ]\n",
      "  [ 92.21348315  93.3258427 ]]\n",
      "\n",
      " [[ 94.43820225  95.5505618 ]\n",
      "  [ 96.66292135  97.7752809 ]\n",
      "  [ 98.88764045 100.        ]]]\n"
     ]
    }
   ],
   "source": [
    "f3 = f.reshape(15,3,2)\n",
    "print(f3.shape)\n",
    "print(f3)"
   ]
  },
  {
   "cell_type": "code",
   "execution_count": 25,
   "metadata": {},
   "outputs": [
    {
     "name": "stdout",
     "output_type": "stream",
     "text": [
      "[[1 3 2]\n",
      " [1 5 7]\n",
      " [9 1 2]]\n",
      "\n",
      "[[3 5 3]\n",
      " [5 8 1]\n",
      " [7 3 4]]\n"
     ]
    }
   ],
   "source": [
    "x = np.random.randint(1,10, (3,3))\n",
    "y = np.random.randint(1,10, (3,3))\n",
    "print(x)\n",
    "print()\n",
    "print(y)"
   ]
  },
  {
   "cell_type": "code",
   "execution_count": 26,
   "metadata": {},
   "outputs": [
    {
     "data": {
      "text/plain": [
       "array([[ 4,  8,  5],\n",
       "       [ 6, 13,  8],\n",
       "       [16,  4,  6]])"
      ]
     },
     "execution_count": 26,
     "metadata": {},
     "output_type": "execute_result"
    }
   ],
   "source": [
    "x + y   # elementwise addition"
   ]
  },
  {
   "cell_type": "code",
   "execution_count": 27,
   "metadata": {},
   "outputs": [
    {
     "data": {
      "text/plain": [
       "array([[-2, -2, -1],\n",
       "       [-4, -3,  6],\n",
       "       [ 2, -2, -2]])"
      ]
     },
     "execution_count": 27,
     "metadata": {},
     "output_type": "execute_result"
    }
   ],
   "source": [
    "x - y "
   ]
  },
  {
   "cell_type": "code",
   "execution_count": 28,
   "metadata": {},
   "outputs": [
    {
     "data": {
      "text/plain": [
       "array([[ 3, 15,  6],\n",
       "       [ 5, 40,  7],\n",
       "       [63,  3,  8]])"
      ]
     },
     "execution_count": 28,
     "metadata": {},
     "output_type": "execute_result"
    }
   ],
   "source": [
    "x * y"
   ]
  },
  {
   "cell_type": "code",
   "execution_count": 29,
   "metadata": {},
   "outputs": [
    {
     "data": {
      "text/plain": [
       "array([[0.33333333, 0.6       , 0.66666667],\n",
       "       [0.2       , 0.625     , 7.        ],\n",
       "       [1.28571429, 0.33333333, 0.5       ]])"
      ]
     },
     "execution_count": 29,
     "metadata": {},
     "output_type": "execute_result"
    }
   ],
   "source": [
    "x / y"
   ]
  },
  {
   "cell_type": "code",
   "execution_count": 30,
   "metadata": {},
   "outputs": [
    {
     "data": {
      "text/plain": [
       "array([[0, 0, 0],\n",
       "       [0, 0, 7],\n",
       "       [1, 0, 0]])"
      ]
     },
     "execution_count": 30,
     "metadata": {},
     "output_type": "execute_result"
    }
   ],
   "source": [
    "x // y"
   ]
  },
  {
   "cell_type": "code",
   "execution_count": 31,
   "metadata": {},
   "outputs": [
    {
     "data": {
      "text/plain": [
       "array([[1, 3, 2],\n",
       "       [1, 5, 0],\n",
       "       [2, 1, 2]])"
      ]
     },
     "execution_count": 31,
     "metadata": {},
     "output_type": "execute_result"
    }
   ],
   "source": [
    "x % y"
   ]
  },
  {
   "cell_type": "code",
   "execution_count": 32,
   "metadata": {},
   "outputs": [
    {
     "data": {
      "text/plain": [
       "array([[      1,     243,       8],\n",
       "       [      1,  390625,       7],\n",
       "       [4782969,       1,      16]])"
      ]
     },
     "execution_count": 32,
     "metadata": {},
     "output_type": "execute_result"
    }
   ],
   "source": [
    "x ** y"
   ]
  },
  {
   "cell_type": "code",
   "execution_count": 33,
   "metadata": {},
   "outputs": [
    {
     "name": "stdout",
     "output_type": "stream",
     "text": [
      "[[32 35 14]\n",
      " [77 66 36]\n",
      " [46 59 36]]\n"
     ]
    }
   ],
   "source": [
    "print(np.dot(x,y))      # dot product"
   ]
  },
  {
   "cell_type": "code",
   "execution_count": 34,
   "metadata": {},
   "outputs": [
    {
     "name": "stdout",
     "output_type": "stream",
     "text": [
      "[[32 35 14]\n",
      " [77 66 36]\n",
      " [46 59 36]]\n"
     ]
    }
   ],
   "source": [
    "print(x.dot(y))         # same dot product"
   ]
  },
  {
   "cell_type": "code",
   "execution_count": 35,
   "metadata": {},
   "outputs": [
    {
     "data": {
      "text/plain": [
       "array([[ -1,   3,  -4],\n",
       "       [-51,  34, -17],\n",
       "       [ -2, -22,  20]])"
      ]
     },
     "execution_count": 35,
     "metadata": {},
     "output_type": "execute_result"
    }
   ],
   "source": [
    "np.cross(x,y)       # cross product"
   ]
  },
  {
   "cell_type": "code",
   "execution_count": 36,
   "metadata": {},
   "outputs": [
    {
     "data": {
      "text/plain": [
       "array([[32, 35, 14],\n",
       "       [77, 66, 36],\n",
       "       [46, 59, 36]])"
      ]
     },
     "execution_count": 36,
     "metadata": {},
     "output_type": "execute_result"
    }
   ],
   "source": [
    "np.matmul(x,y)          # matrix multiplication"
   ]
  },
  {
   "cell_type": "code",
   "execution_count": 37,
   "metadata": {},
   "outputs": [
    {
     "data": {
      "text/plain": [
       "31"
      ]
     },
     "execution_count": 37,
     "metadata": {},
     "output_type": "execute_result"
    }
   ],
   "source": [
    "x.sum()     # sum of all elements"
   ]
  },
  {
   "cell_type": "code",
   "execution_count": 43,
   "metadata": {},
   "outputs": [
    {
     "name": "stdout",
     "output_type": "stream",
     "text": [
      "[11  9 11]\n",
      "[ 6 13 12]\n"
     ]
    }
   ],
   "source": [
    "print(x.sum(axis=0))   # sum of each column\n",
    "print(x.sum(axis=1)) # sum of each row"
   ]
  },
  {
   "cell_type": "code",
   "execution_count": 40,
   "metadata": {},
   "outputs": [
    {
     "name": "stdout",
     "output_type": "stream",
     "text": [
      "2.0\n",
      "[1. 3. 2.]\n",
      "[2. 5. 2.]\n"
     ]
    }
   ],
   "source": [
    "print(np.median(x))\n",
    "print(np.median(x, axis=0))\n",
    "print(np.median(x, axis=1))"
   ]
  },
  {
   "cell_type": "code",
   "execution_count": 41,
   "metadata": {},
   "outputs": [
    {
     "name": "stdout",
     "output_type": "stream",
     "text": [
      "2.753224820747526\n",
      "[3.77123617 1.63299316 2.3570226 ]\n",
      "[0.81649658 2.49443826 3.55902608]\n"
     ]
    }
   ],
   "source": [
    "print(x.std())\n",
    "print(x.std(axis=0))\n",
    "print(x.std(axis=1))"
   ]
  },
  {
   "cell_type": "code",
   "execution_count": 44,
   "metadata": {},
   "outputs": [
    {
     "name": "stdout",
     "output_type": "stream",
     "text": [
      "3.4444444444444446\n",
      "[3.66666667 3.         3.66666667]\n",
      "[2.         4.33333333 4.        ]\n"
     ]
    }
   ],
   "source": [
    "print(x.mean())\n",
    "print(x.mean(axis=0))\n",
    "print(x.mean(axis=1))"
   ]
  },
  {
   "cell_type": "code",
   "execution_count": 45,
   "metadata": {},
   "outputs": [],
   "source": [
    "import matplotlib.pyplot as plt"
   ]
  },
  {
   "cell_type": "code",
   "execution_count": 55,
   "metadata": {},
   "outputs": [
    {
     "data": {
      "image/png": "[encoded data removed]",
      "text/plain": [
       "<Figure size 640x480 with 1 Axes>"
      ]
     },
     "metadata": {},
     "output_type": "display_data"
    }
   ],
   "source": [
    "t = np.linspace(0, 4*np.pi, 100)\n",
    "y = np.sin(t)\n",
    "x = np.cos(t)\n",
    "plt.plot(t,y)\n",
    "plt.plot(t,x,'ro')\n",
    "plt.show()"
   ]
  },
  {
   "cell_type": "code",
   "execution_count": 58,
   "metadata": {},
   "outputs": [
    {
     "data": {
      "text/plain": [
       "<BarContainer object of 12 artists>"
      ]
     },
     "execution_count": 58,
     "metadata": {},
     "output_type": "execute_result"
    },
    {
     "data": {
      "image/png": "[encoded data removed]",
      "text/plain": [
       "<Figure size 640x480 with 1 Axes>"
      ]
     },
     "metadata": {},
     "output_type": "display_data"
    }
   ],
   "source": [
    "rainfall = [20,30,40,50,60,70,80,90,100,120,130,50]\n",
    "months = [\"Jan\", \"Feb\", \"Mar\", \"Apr\", \"May\", \"Jun\", \"Jul\", \"Aug\", \"Sep\", \"Oct\", \"Nov\", \"Dec\"]\n",
    "plt.bar(months,rainfall)"
   ]
  },
  {
   "cell_type": "code",
   "execution_count": null,
   "metadata": {},
   "outputs": [],
   "source": []
  }
 ],
 "metadata": {
  "kernelspec": {
   "display_name": "Python 3.9.12 ('base')",
   "language": "python",
   "name": "python3"
  },
  "language_info": {
   "codemirror_mode": {
    "name": "ipython",
    "version": 3
   },
   "file_extension": ".py",
   "mimetype": "text/x-python",
   "name": "python",
   "nbconvert_exporter": "python",
   "pygments_lexer": "ipython3",
   "version": "3.9.12"
  },
  "orig_nbformat": 4,
  "vscode": {
   "interpreter": {
    "hash": "4fa96c6fab553df392c260cd8758a3b05d0d6d0ece4103e9006a84d1a0a30fb2"
   }
  }
 },
 "nbformat": 4,
 "nbformat_minor": 2
}
